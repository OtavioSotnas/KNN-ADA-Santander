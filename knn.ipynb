{
 "cells": [
  {
   "cell_type": "markdown",
   "metadata": {},
   "source": [
    "# Algoritmo KNN\n",
    "## Por: Matheus Mendonca Lopes, Otávio Santos, Raphael Griffoni, Vinícius Leôncio\n",
    "\n",
    "Base de dados usada: https://gist.githubusercontent.com/guilhermesilveira/4d1d4a16ccbf6ea4e0a64a38a24ec884/raw/afd05cb0c796d18f3f5a6537053ded308ba94bf7/car-prices.csv\n",
    "\n",
    "Compreendendo a base de dados: <br>![Tabela](\\src\\tabela.jpg \"Tabela\")<br>\n",
    "- A primeira coluna contém o ID de cada veículo. Essa informação não será necessária para a classificação.\n",
    "- **milhas_por_ano**: representa quantas milhas em média o carro andou por ano.\n",
    "- **ano_do_modelo**: representa o ano de fabricação do veículo.\n",
    "- **preco**: representa o preço do veículo.\n",
    "- **vendido**: rótulo de classificação para o algoritmo.\n",
    "<br><br>\n",
    "**Os dados de teste serão os últimos 500 da base de dados do link, os quais serão removidos da base de treino.**"
   ]
  },
  {
   "cell_type": "markdown",
   "metadata": {},
   "source": [
    "# Definição da Classe do Algoritmo KNN\n",
    "1. ```__init__```: \n",
    "    - Argumentos:\n",
    "        * K: Representa quantos vizinhos serão pegos pelo algoritmo;\n",
    "        * x_treino: lista de treino sem a classificação;\n",
    "        * y_treino: lista de treino contendo classificações.\n",
    "    - Funcionamento:<br>\n",
    "        Apenas recebe variáveis básicas para funcionamento do algoritmo.\n",
    "\n",
    "2. ```previsao```:\n",
    "    - Argumentos:\n",
    "        * x_teste: lista com dados que serão testados e classificados\n",
    "    - Funcionamento:<br>\n",
    "        Faz uma list comprehension executando a função ```encontra_vizinhos``` enviando cada dado contido na lista como argumento.\n",
    "        Após terminar, retorna a lista contendo a classificação como 0 ou 1 (representando no ou yes). O rótulo será convertido para 'no' ou 'yes' posteriormente.\n",
    "\n",
    "\n"
   ]
  },
  {
   "cell_type": "code",
   "execution_count": 8,
   "metadata": {},
   "outputs": [],
   "source": [
    "class algoritmo_knn: \n",
    "    def __init__(self, k, x_treino, y_treino):\n",
    "        self.k = k\n",
    "        self.x_treino = x_treino\n",
    "        self.y_treino = y_treino\n",
    "        \n",
    "    def previsao(self, x_teste):\n",
    "        previsoes = [self.encontra_vizinhos(x_teste_ponto) for x_teste_ponto in x_teste]\n",
    "        return previsoes\n",
    "    \n",
    "    def encontra_vizinhos(self, x_teste_ponto):\n",
    "        distancias = [self.distancia_euclidiana(x_treino_ponto, x_teste_ponto) for x_treino_ponto in self.x_treino]\n",
    "        indices_k_vizinhos = sorted(range(len(distancias)), key = lambda i: distancias[i])[:self.k]\n",
    "        classificacao_k_vizinhos = [self.y_treino[i] for i in indices_k_vizinhos]\n",
    "        classificacao_mais_comum = max(set(classificacao_k_vizinhos), key=classificacao_k_vizinhos.count)\n",
    "        return classificacao_mais_comum\n",
    "        \n",
    "    def distancia_euclidiana(self, x_treino_ponto, x_teste_ponto):\n",
    "        distancia = sum((x_treino_col - x_teste_col) ** 2 for x_treino_col, x_teste_col in zip(x_treino_ponto, x_teste_ponto)) ** 0.5\n",
    "        return distancia"
   ]
  },
  {
   "cell_type": "code",
   "execution_count": 9,
   "metadata": {},
   "outputs": [],
   "source": [
    "def calcula_milhas_total(milhas_por_ano, ano):\n",
    "    return milhas_por_ano*(2024-ano)"
   ]
  },
  {
   "cell_type": "code",
   "execution_count": 10,
   "metadata": {},
   "outputs": [],
   "source": [
    "def prever_vendas(dados_classificados, dados_nao_classificados):\n",
    "    dados_classificados_filtrados = [(linha[1], linha[2], linha[3], linha[4]) for linha in dados_classificados if linha[4] != '']\n",
    "    x_treino = [(calcula_milhas_total(float(linha[0]), int(linha[1])), float(linha[2])) for linha in dados_classificados_filtrados]\n",
    "    y_treino = [linha[-1] for linha in dados_classificados_filtrados]\n",
    "    \n",
    "    classificacoes = {'yes': 1, 'no': 0}\n",
    "    y_treino_classificacoes = [classificacoes[classificacao] for classificacao in y_treino]\n",
    "    \n",
    "    knn = algoritmo_knn(k = 3, x_treino = x_treino, y_treino = y_treino_classificacoes)\n",
    "    \n",
    "    previsoes = knn.previsao(dados_nao_classificados)\n",
    "    \n",
    "    mapeamento_classificacoes = {valor: chave for chave, valor in classificacoes.items()}\n",
    "    previsoes = [mapeamento_classificacoes[classificacao] for classificacao in previsoes]\n",
    "    \n",
    "    return previsoes"
   ]
  },
  {
   "cell_type": "code",
   "execution_count": 11,
   "metadata": {},
   "outputs": [],
   "source": [
    "dados_classificados = []\n",
    "\n",
    "with open('car-prices.csv', 'r', encoding='utf-8-sig') as ds_carros:\n",
    "    linhas = ds_carros.readlines()\n",
    "    for linha in linhas:\n",
    "        dados_classificados.append(list(linha.strip().split(',')))\n"
   ]
  },
  {
   "cell_type": "code",
   "execution_count": 12,
   "metadata": {},
   "outputs": [],
   "source": [
    "dados_nao_classificados = []\n",
    "\n",
    "with open('car-no-info.csv', 'r', encoding='utf-8-sig') as ds_teste:\n",
    "    linhas = ds_teste.readlines()\n",
    "    dados_nao_classificados_str = []\n",
    "    for linha in linhas:\n",
    "        dados_nao_classificados_str.append(list(linha.strip().split(','))[:-1])\n",
    "\n",
    "    dados_nao_classificados = [(calcula_milhas_total(float(linha[1]), int(linha[2])), float(linha[3])) for linha in dados_nao_classificados_str]"
   ]
  },
  {
   "cell_type": "code",
   "execution_count": 13,
   "metadata": {},
   "outputs": [],
   "source": [
    "venda_prevista = prever_vendas(dados_classificados, dados_nao_classificados)"
   ]
  },
  {
   "cell_type": "code",
   "execution_count": 14,
   "metadata": {},
   "outputs": [],
   "source": [
    "dados_previsoes = dados_nao_classificados_str\n",
    "\n",
    "for i in range(len(dados_previsoes)):\n",
    "    dados_previsoes[i].append(venda_prevista[i])\n",
    "    \n",
    "\n"
   ]
  }
 ],
 "metadata": {
  "kernelspec": {
   "display_name": "Python 3",
   "language": "python",
   "name": "python3"
  },
  "language_info": {
   "codemirror_mode": {
    "name": "ipython",
    "version": 3
   },
   "file_extension": ".py",
   "mimetype": "text/x-python",
   "name": "python",
   "nbconvert_exporter": "python",
   "pygments_lexer": "ipython3",
   "version": "3.11.5"
  }
 },
 "nbformat": 4,
 "nbformat_minor": 2
}
