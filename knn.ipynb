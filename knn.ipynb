{
 "cells": [
  {
   "cell_type": "markdown",
   "metadata": {},
   "source": [
    "# Algoritmo KNN\n",
    "## Por: Matheus Mendonca Lopes, Otávio Santos, Raphael Griffoni, Vinícius Leôncio\n",
    "\n",
    "Base de dados usada: https://gist.githubusercontent.com/guilhermesilveira/4d1d4a16ccbf6ea4e0a64a38a24ec884/raw/afd05cb0c796d18f3f5a6537053ded308ba94bf7/car-prices.csv\n",
    "\n",
    "Compreendendo a base de dados: <br>![Tabela](./src/tabela.jpg \"Tabela\")<br>\n",
    "- A primeira coluna contém o ID de cada veículo. Essa informação não será necessária para a classificação.\n",
    "- **milhas_por_ano**: representa quantas milhas em média o carro andou por ano.\n",
    "- **ano_do_modelo**: representa o ano de fabricação do veículo.\n",
    "- **preco**: representa o preço do veículo.\n",
    "- **vendido**: rótulo de classificação para o algoritmo.\n",
    "<br>\n",
    "<br>\n",
    "Para trabalhar com a lista, as variáveis **milhas_por_ano** e **ano_do_modelo** serão utilizados para calcular as milhas rodadas no total, para ser possível realizar o cálculo da distância euclidiana.\n",
    "<br>\n",
    "<br>\n",
    "**Os dados de teste serão os últimos 500 da base de dados do link, os quais serão removidos da base de treino.**"
   ]
  },
  {
   "cell_type": "markdown",
   "metadata": {},
   "source": [
    "# Definição da Classe do Algoritmo KNN"
   ]
  },
  {
   "cell_type": "markdown",
   "metadata": {},
   "source": [
    "\n",
    "1. ```__init__(k, x_treino, y_treino)```: \n",
    "    - Argumentos:\n",
    "        * K: Representa quantos vizinhos serão pegos pelo algoritmo;\n",
    "        * x_treino: lista de treino sem a classificação;\n",
    "        * y_treino: lista de treino contendo classificações.\n",
    "    - Funcionamento:<br>\n",
    "        Apenas recebe variáveis básicas para funcionamento do algoritmo.\n",
    "\n",
    "2. ```distancia_euclidiana(x_treino_ponto, x_teste_ponto)```:\n",
    "    - Argumentos:\n",
    "        * x_treino_ponto: dado contido na lista de treino sem a classificação (Ex: ['0','21801','2000','30941.02','yes']);\n",
    "        * x_teste_ponto: dado contido na lista de teste sem a classificação (Ex: ['9500','11356','1998','36623.42']).\n",
    "    - Funcionamento:<br>\n",
    "        Realiza o cálculo da distância euclidiana, representado pela fórmula:<br>\n",
    "        ![Dist Euclidiana](src/euclidiana.png \"Dist Euclidiana\")\n",
    "\n",
    "3. ```encontra_vizinhos(x_teste_ponto)```:\n",
    "    - Argumentos:\n",
    "        * x_teste_ponto: dado contido na lista de teste sem a classificação (Ex: ['9500','11356','1998','36623.42']).\n",
    "    - Funcionamento:<br>\n",
    "        Calcula a distância euclidiana do dado de cada um dos dados de treino e as armazena na lista ```distancias``` através de uma list comprehension. \n",
    "        Então, se encontra o indíce dos k pontos mais próximos ao ponto de teste, ordenando a lista de distâncias e pegando os indíces dos k primeiros elementos.\n",
    "        Após obter os k pontos mais próximos, obtêm-se a classificação de cada um deles para classificar o ponto de teste.\n",
    "        Por fim, determina-se a classificação mais comum, que será a retornada como classificação do ponto de teste.\n",
    "\n",
    "4. ```previsao(x_teste)```:\n",
    "    - Argumentos:\n",
    "        * x_teste: lista com dados que serão testados e classificados.\n",
    "    - Funcionamento:<br>\n",
    "        Faz uma list comprehension executando a função ```encontra_vizinhos``` enviando cada dado contido na lista como argumento.\n",
    "        Após terminar, retorna a lista contendo a classificação como 0 ou 1 (representando no ou yes). O rótulo será convertido para 'no' ou 'yes' posteriormente.\n",
    "\n",
    "\n"
   ]
  },
  {
   "cell_type": "code",
   "execution_count": 130,
   "metadata": {},
   "outputs": [],
   "source": [
    "class algoritmo_knn: \n",
    "    def __init__(self, k, x_treino, y_treino):\n",
    "        self.k = k\n",
    "        self.x_treino = x_treino\n",
    "        self.y_treino = y_treino\n",
    "        \n",
    "    def distancia_euclidiana(self, x_treino_ponto, x_teste_ponto):\n",
    "        distancia = sum((x_treino_col - x_teste_col) ** 2 for x_treino_col, x_teste_col in zip(x_treino_ponto, x_teste_ponto)) ** 0.5\n",
    "        return distancia\n",
    "    \n",
    "    def encontra_vizinhos(self, x_teste_ponto):\n",
    "        distancias = [self.distancia_euclidiana(x_treino_ponto, x_teste_ponto) for x_treino_ponto in self.x_treino]\n",
    "        indices_k_vizinhos = sorted(range(len(distancias)), key = lambda i: distancias[i])[:self.k]\n",
    "        classificacao_k_vizinhos = [self.y_treino[i] for i in indices_k_vizinhos]\n",
    "        classificacao_mais_comum = max(set(classificacao_k_vizinhos), key=classificacao_k_vizinhos.count)\n",
    "        return classificacao_mais_comum\n",
    "\n",
    "    def previsao(self, x_teste):\n",
    "        previsoes = [self.encontra_vizinhos(x_teste_ponto) for x_teste_ponto in x_teste]\n",
    "        return previsoes"
   ]
  },
  {
   "cell_type": "markdown",
   "metadata": {},
   "source": [
    "# Definição de funções"
   ]
  },
  {
   "cell_type": "markdown",
   "metadata": {},
   "source": [
    "1. ```calcula_milhas_total(milhas_por_ano, ano)```:\n",
    "    - Argumentos:\n",
    "        * milhas_por_ano: representa a quantidade de milhas rodadas pelo carro em média por ano.\n",
    "        * ano: representa o ano de fabricação do carro.\n",
    "    - Funcionamento:<br>\n",
    "        Essa função será utilizada no momento de carga de dados de treino e teste para criar uma lista adaptada, possibilitando melhor análise do algoritmo e o cálculo da distância euclidiana.\n",
    "\n",
    "2. ```zero_ou_um(linha)```:\n",
    "    - Argumentos:\n",
    "        * classificacao: recebe a classificação como **yes** ou **no**, e substitui por 1 e 0, respectivamente.\n",
    "    - Funcionamento:<br>\n",
    "        Para melhor trabalho com as classificações, é realizada a substituição da classificação em formato de string para um binário equivalente.\n",
    "\n",
    "3. ```parametriza_dados(dados)```:\n",
    "    - Argumentos:\n",
    "        * dados: recebe a lista de dados completa, com todos os 10000 dados.\n",
    "    - Funcionamento:<br>\n",
    "        Formata a lista adaptando cada variável para um formato adequado, pelo fato de chegarem todos em string, e os coloca em uma tupla, para não sofrerem alterações, além de já usar a função ```calcula_milha_total``` para adaptar o dataset. \n",
    "\n",
    "4. ```calcula_outliers(dados)```:\n",
    "    - Argumentos:\n",
    "        * dados: recebe a lista de dados completa.\n",
    "    - Funcionamento:<br>\n",
    "        Recebe a lista de dados completa e descobre os outliers através do cálculo da amplitude de quartis.\n",
    "\n",
    "5. ```remove_outliers(dados)```:\n",
    "    - Argumentos:\n",
    "        * dados: recebe a lista de dados completa.\n",
    "    - Funcionamento:<br>\n",
    "        Utiliza ```calcula_outliers``` para descobrir dados inconsistentes numericamente ao dataset e os remove da lista de dados que serão utilizados.\n",
    "\n",
    "6. ```calcula_acuracia(previsoes, dados_teste)```:\n",
    "    - Argumentos:\n",
    "        * previsoes: recebe a lista de previsões de classificações.\n",
    "        * dados_teste: recebe a lista de dados que foram utilizadas para teste, mas com a classificação original.\n",
    "    - Funcionamento:<br>\n",
    "        Compara as previsões obtidas com a classificação original de cada dado, e retorna a porcentagem de precisão.\n",
    "\n",
    "7. ```junta_previsoes(previsoes, dados_teste)```:\n",
    "    - Argumentos:\n",
    "        * previsoes: recebe a lista de previsões de classificações.\n",
    "        * dados_teste: recebe a lista de dados que foram utilizadas para teste, mas com a classificação original.\n",
    "    - Funcionamento:<br>\n",
    "        Forma um novo dataset com header contendo os dados testados e as previsões obtidas. Internamente, faz a troca dos zeros e uns por **no** e **yes**."
   ]
  },
  {
   "cell_type": "code",
   "execution_count": 131,
   "metadata": {},
   "outputs": [],
   "source": [
    "def calcula_milhas_total(milhas_por_ano, ano):\n",
    "    return milhas_por_ano*(2024-ano)\n",
    "\n",
    "def zero_ou_um(classificacao):\n",
    "    if classificacao == \"yes\":\n",
    "        classificacao = 1\n",
    "    else:\n",
    "        classificacao = 0\n",
    "    return classificacao\n",
    "\n",
    "def parimetriza_dados(dados):\n",
    "    dados_parametrizados = [(int(linha[0]),calcula_milhas_total(int(linha[1]), int(linha[2])), float(linha[3]), zero_ou_um(linha[4])) for linha in dados if linha[4] != '']\n",
    "    return dados_parametrizados\n",
    "\n",
    "def calcula_outliers(dados):\n",
    "    dados_ordenados = sorted(dados)\n",
    "    n = len(dados)\n",
    "    q1_index = int((n + 1) / 4)\n",
    "    q3_index = int(3 * ((n + 1) / 4))\n",
    "\n",
    "    q1 = dados_ordenados[q1_index - 1] \n",
    "    q3 = dados_ordenados[q3_index - 1] \n",
    "\n",
    "    iqr = q3 - q1\n",
    "    limite_inferior = q1 - 1.5 * iqr\n",
    "    limite_superior = q3 + 1.5 * iqr\n",
    "\n",
    "    outliers = [x for x in dados if x < limite_inferior or x > limite_superior]\n",
    "    return outliers\n",
    "\n",
    "def remove_outliers(dados):\n",
    "    coluna = [linha[1] for linha in dados]\n",
    "    outliers = calcula_outliers(coluna)\n",
    "    dados_sem_outliers = [linha for linha in dados if linha[1] not in outliers]\n",
    "\n",
    "    return dados_sem_outliers\n",
    "\n",
    "def calcula_acuracia(previsoes, dados_teste):\n",
    "    acertos = sum(1 for i in range(len(dados_teste)) if dados_teste[i][-1] == previsoes[i])\n",
    "    acuracia = (acertos / len(dados_teste)) * 100\n",
    "    print(f\"A precisão desse algorítmo foi de {acuracia:.2f}%\")\n",
    "    \n",
    "def junta_previsoes(previsoes, dados_teste):\n",
    "    previsoes_yes_no = ['yes' if prev == 1 else 'no' for prev in previsoes]\n",
    "    resultados = [[item[0], item[1], item[2], item[3], prev] for item, prev in zip(dados_teste, previsoes_yes_no)]\n",
    "    resultados.insert(0, ['id', 'milhas_por_ano', 'ano_do_modelo', 'preco', 'previsao_de_venda'])\n",
    "    return resultados"
   ]
  },
  {
   "cell_type": "markdown",
   "metadata": {},
   "source": [
    "8. ```prever_vendas(dados)```:\n",
    "    - Argumentos:\n",
    "        * dados: dataset completo, sem filtros.\n",
    "    - Funcionamento:<br>\n",
    "        Essa é a principal função do programa, pois realiza o tratamento de dados e instância a classe do algoritmo que realizará as operações. Para melhor compreensão, o funcionamento será enumerado por etapa.\n",
    "        1. O programa embaralha todos os dados para mudar os testes a cada execução.\n",
    "        2. Os dados são parametrizados para trabalhar com ```milhas_totais``` e, então, os outliers são removidos.\n",
    "        3. É realizado um slicing dos dados, em que os último 5% dos dados serão utilizados para teste, e suas classificações não serão consideradas.\n",
    "        4. É criada, então, ```x_treino```, que é a lista adaptada para o algoritmo a fim de realizar o treinamento. Nela, estão contidas as informações ```(milhas_totais, preco)```.\n",
    "        5. A lista ```y_treino``` se trata apenas das classificações de cada dado de treino, obtidas através da função ```zero_ou_um```.\n",
    "        6. É criada a lista ```x_teste```, que contém a conversão dos dados de teste para o formato ```(milhas_totais, preco)```.\n",
    "        7. Após os tratamentos citados acima, é instanciada uma classe do algoritmo, que recebe os argumentos requisitados pelo construtor, como citado no tópico 1 da **Definição da Classe do Algoritmo KNN**. Então, é executada a previsão da classificação dos dados de teste.\n",
    "        8. Após serem realizadas as previsões, a acurácia do algoritmo é calculada, e o dataset de previsões é montado, unindo as previsões obtidas com os dados de teste."
   ]
  },
  {
   "cell_type": "code",
   "execution_count": 132,
   "metadata": {},
   "outputs": [],
   "source": [
    "import random as r\n",
    "\n",
    "def prever_vendas(dados):\n",
    "    r.shuffle(dados)\n",
    "    \n",
    "    dados_parametrizados = parimetriza_dados(dados)\n",
    "    dados = remove_outliers(dados_parametrizados)\n",
    "\n",
    "    indice = int(len(dados) * 0.95)\n",
    "    dados_classificados = [linha for linha in dados[:indice]]\n",
    "    dados_nao_classificados = [linha for linha in dados[indice:]]\n",
    "\n",
    "    x_treino = [(linha[1], linha[2]) for linha in dados_classificados]\n",
    "    y_treino = [linha[-1] for linha in dados_classificados]   \n",
    "    x_teste = [(linha[1], linha[2]) for linha in dados_nao_classificados]\n",
    "    \n",
    "    knn = algoritmo_knn(k = 50, x_treino = x_treino, y_treino = y_treino)\n",
    "    \n",
    "    previsoes = knn.previsao(x_teste)\n",
    "\n",
    "    calcula_acuracia(previsoes, dados_nao_classificados)\n",
    "    dataset_previsoes = junta_previsoes(previsoes, dados[indice:])\n",
    "\n",
    "    return dataset_previsoes"
   ]
  },
  {
   "cell_type": "markdown",
   "metadata": {},
   "source": [
    "# Execução do código"
   ]
  },
  {
   "cell_type": "markdown",
   "metadata": {},
   "source": [
    "## Carregando dados de treino:\n",
    "***Os dados são recebidos através de um arquivo CSV, e o enconding é necessário para remover um bug do Notebook no VSCode em que um caracter é adicionado no início do primeiro dado da lista.**"
   ]
  },
  {
   "cell_type": "code",
   "execution_count": 133,
   "metadata": {},
   "outputs": [],
   "source": [
    "with open('car-prices.csv', 'r', encoding='utf-8-sig') as ds_carros:\n",
    "    linhas = ds_carros.readlines()\n",
    "    dados = [list(linha.strip().split(',')) for linha in linhas]\n"
   ]
  },
  {
   "cell_type": "markdown",
   "metadata": {},
   "source": [
    "## Execução do algoritmo:"
   ]
  },
  {
   "cell_type": "markdown",
   "metadata": {},
   "source": [
    "Envia ```dados[1:]``` para remover a primeira linha do dataset, que contém o cabeçalho da tabela."
   ]
  },
  {
   "cell_type": "code",
   "execution_count": 134,
   "metadata": {},
   "outputs": [],
   "source": [
    "venda_prevista = prever_vendas(dados[1:])\n",
    "venda_prevista"
   ]
  }
 ],
 "metadata": {
  "kernelspec": {
   "display_name": "Python 3",
   "language": "python",
   "name": "python3"
  },
  "language_info": {
   "codemirror_mode": {
    "name": "ipython",
    "version": 3
   },
   "file_extension": ".py",
   "mimetype": "text/x-python",
   "name": "python",
   "nbconvert_exporter": "python",
   "pygments_lexer": "ipython3",
   "version": "3.11.5"
  }
 },
 "nbformat": 4,
 "nbformat_minor": 2
}
